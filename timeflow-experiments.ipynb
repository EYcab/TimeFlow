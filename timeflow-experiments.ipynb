{
 "cells": [
  {
   "cell_type": "code",
   "execution_count": 1,
   "metadata": {
    "collapsed": true
   },
   "outputs": [],
   "source": [
    "import timeflow as tflow\n",
    "import timesynth as ts\n",
    "import tensorflow as tf\n",
    "import matplotlib.pyplot as plt\n",
    "import numpy as np\n",
    "%matplotlib inline"
   ]
  },
  {
   "cell_type": "code",
   "execution_count": 2,
   "metadata": {
    "collapsed": true
   },
   "outputs": [],
   "source": [
    "train_data = np.loadtxt('data/ChlorineConcentration/ChlorineConcentration_TRAIN', delimiter=',')"
   ]
  },
  {
   "cell_type": "code",
   "execution_count": 3,
   "metadata": {
    "collapsed": true
   },
   "outputs": [],
   "source": [
    "X_class_train = train_data[:, 1:]\n",
    "Y_class_train_ = list(train_data[:, 0])"
   ]
  },
  {
   "cell_type": "code",
   "execution_count": 4,
   "metadata": {
    "collapsed": true
   },
   "outputs": [],
   "source": [
    "def convert_to_one_hot(value, num_classes=3):\n",
    "    one_hot = [0]*num_classes\n",
    "    one_hot[int(value-1)]=1\n",
    "    return one_hot"
   ]
  },
  {
   "cell_type": "code",
   "execution_count": 5,
   "metadata": {
    "collapsed": true
   },
   "outputs": [],
   "source": [
    "Y_class_train = np.array(map(convert_to_one_hot, Y_class_train_))"
   ]
  },
  {
   "cell_type": "code",
   "execution_count": 6,
   "metadata": {
    "collapsed": true
   },
   "outputs": [],
   "source": [
    "input_size = 1\n",
    "hidden_size = 10\n",
    "output_size = 3\n",
    "batch_size = 467"
   ]
  },
  {
   "cell_type": "code",
   "execution_count": 7,
   "metadata": {
    "collapsed": true
   },
   "outputs": [],
   "source": [
    "with tf.variable_scope('Input'):\n",
    "    inputs = tflow.placeholders.prediction.input_batch_placeholder(input_size, batch_size)\n",
    "with tf.variable_scope('Input_LSTM_Layer'):\n",
    "    input_lstm_layer = tflow.layers.InputLSTMLayer(inputs, input_size, batch_input=True)\n",
    "with tf.variable_scope('LSTM_Layer'):\n",
    "    lstm_layer = tflow.layers.LSTMLayer(input_size, hidden_size, input_lstm_layer)\n",
    "with tf.variable_scope('Regression_Layer'):\n",
    "    reg_layer = tflow.layers.RegressionLayer(hidden_size, output_size, lstm_layer)\n",
    "with tf.variable_scope('Output_LSTM_Layer'):\n",
    "    output_layer = tflow.layers.OutputLSTMLayer(output_size, reg_layer, batch_output=True)"
   ]
  },
  {
   "cell_type": "code",
   "execution_count": 8,
   "metadata": {
    "collapsed": true
   },
   "outputs": [],
   "source": [
    "outputs = output_layer.get_outputs()\n",
    "last_output = tf.reverse(outputs,[False, True, False])[:, 0, :]\n",
    "output=tf.nn.softmax(last_output)"
   ]
  },
  {
   "cell_type": "code",
   "execution_count": 9,
   "metadata": {
    "collapsed": true
   },
   "outputs": [],
   "source": [
    "y = tf.placeholder(tf.float32, shape=[batch_size, output_size],name='outputs')"
   ]
  },
  {
   "cell_type": "code",
   "execution_count": 10,
   "metadata": {
    "collapsed": true
   },
   "outputs": [],
   "source": [
    "#Defining cross entropy\n",
    "with tf.variable_scope('cross_entropy'):\n",
    "    cross_entropy = -tf.reduce_sum(y * tf.log(output))\n",
    "with tf.variable_scope('accuracy'):\n",
    "    correct_prediction = tf.equal(tf.argmax(y,1), tf.argmax(output,1))\n",
    "    accuracy = (tf.reduce_mean(tf.cast(correct_prediction, tf.float32)))*100"
   ]
  },
  {
   "cell_type": "code",
   "execution_count": 11,
   "metadata": {
    "collapsed": true
   },
   "outputs": [],
   "source": [
    "tf.scalar_summary(\"Cross Entropy\", cross_entropy)\n",
    "tf.scalar_summary(\"Accuracy\", accuracy)\n",
    "summary_op = tf.merge_all_summaries()"
   ]
  },
  {
   "cell_type": "code",
   "execution_count": 12,
   "metadata": {
    "collapsed": true
   },
   "outputs": [],
   "source": [
    "# Training with Adadelta Optimizer\n",
    "train_step = tf.train.AdamOptimizer().minimize(cross_entropy)"
   ]
  },
  {
   "cell_type": "code",
   "execution_count": 13,
   "metadata": {
    "collapsed": true
   },
   "outputs": [],
   "source": [
    "# Starting tensorflow session\n",
    "sess=tf.InteractiveSession()\n",
    "sess.run(tf.initialize_all_variables())"
   ]
  },
  {
   "cell_type": "code",
   "execution_count": 14,
   "metadata": {
    "collapsed": true
   },
   "outputs": [],
   "source": [
    "#Setting up log directory for tensorboard\n",
    "logs_path = 'tmp/cls/1'\n",
    "writer = tf.train.SummaryWriter(logs_path, graph=tf.get_default_graph())"
   ]
  },
  {
   "cell_type": "code",
   "execution_count": 15,
   "metadata": {
    "collapsed": true
   },
   "outputs": [],
   "source": [
    "data_len, time_series_len = X_class_train.shape\n",
    "X_class_train_reshaped = np.reshape(X_class_train, (data_len, time_series_len, 1))"
   ]
  },
  {
   "cell_type": "code",
   "execution_count": null,
   "metadata": {
    "collapsed": true
   },
   "outputs": [],
   "source": [
    "for i in range(10):\n",
    "    _, summary = sess.run([train_step, summary_op],\n",
    "                         feed_dict={inputs:X_class_train_reshaped,\n",
    "                                    y:Y_class_train})\n",
    "    writer.add_summary(summary, i)"
   ]
  },
  {
   "cell_type": "markdown",
   "metadata": {},
   "source": [
    "#### SNCC dataset"
   ]
  },
  {
   "cell_type": "code",
   "execution_count": 16,
   "metadata": {
    "collapsed": true
   },
   "outputs": [],
   "source": [
    "import re\n",
    "import pandas as pd\n",
    "import matplotlib.gridspec as gridspec\n",
    "def read_snpcc_lc(fname, data_path):\n",
    "    start_line=0\n",
    "    with open(data_path+fname) as f:\n",
    "        for line in f:\n",
    "            s=re.findall('SNTYPE:\\s*([-+]?\\d+)', line)\n",
    "            if s:\n",
    "                sn_class_snpcc = int(s[0])\n",
    "            s=re.findall('HOST_GALAXY_PHOTO-Z:\\s*(\\d+\\.\\d+)', line)\n",
    "            if s:\n",
    "                photo_z = float(s[0])\n",
    "            s=re.findall('SN Type = (\\w+) ,', line)\n",
    "            if s:\n",
    "                sn_class = s[0]\n",
    "            s=re.search('VARLIST:', line)\n",
    "            if s:\n",
    "                break\n",
    "            start_line += 1\n",
    "    try:\n",
    "        df = pd.read_table(data_path+fname, skiprows=start_line, delim_whitespace=True)\n",
    "    except:\n",
    "        print(fname)\n",
    "    bands=['g', 'r', 'i', 'z']\n",
    "    lc = list()\n",
    "    for i in range(0, len(bands)):\n",
    "        #tmp = df.query(\"FLT=='\"+str(bands[i])+\"' and SNR>0.0\").ix[:, [\"MJD\",\"FLUXCAL\", \"FLUXCALERR\"]]\n",
    "        tmp = df.query(\"FLT=='\"+str(bands[i])+\"'\").ix[:, [\"MJD\",\"FLUXCAL\", \"FLUXCALERR\"]]\n",
    "        tmp = tmp.astype(float).as_matrix()\n",
    "        lc.append(tmp)\n",
    "    return lc, photo_z, sn_class, sn_class_snpcc\n",
    "\n",
    "def plot_snpcc_lc(lc):\n",
    "    bands=['g', 'r', 'i', 'z']\n",
    "    colors=['g', 'r', 'm', 'k']\n",
    "    fig = plt.figure(figsize=(12, 6), dpi=150)\n",
    "    gs = gridspec.GridSpec(2, 2)\n",
    "    for i in range(0, len(bands)):\n",
    "        #ax = fig.add_subplot(4, 1, i+1)\n",
    "        ax = plt.subplot(gs[i])\n",
    "        ax.set_title(bands[i])\n",
    "        ax.errorbar(lc[i][:, 0], lc[i][:, 1], yerr=lc[i][:, 2], color=colors[i], linewidth=1, fmt='.', label=bands[i])\n",
    "        ax.set_xlabel('MJD')\n",
    "        ax.set_ylabel('FLUX')\n",
    "        if i > 0: \n",
    "            if xmax < ax.get_xlim()[1]:\n",
    "                xmax = ax.get_xlim()[1]\n",
    "            if xmin > ax.get_xlim()[0]:\n",
    "                xmin = ax.get_xlim()[0]\n",
    "        else:\n",
    "            xmin, xmax = ax.get_xlim()\n",
    "    for i in range(0, len(bands)):\n",
    "        ax = plt.subplot(gs[i])\n",
    "        ax.set_xlim([xmin, xmax])\n",
    "        plt.grid()\n",
    "    gs.tight_layout(fig)"
   ]
  },
  {
   "cell_type": "code",
   "execution_count": 17,
   "metadata": {
    "collapsed": true
   },
   "outputs": [],
   "source": [
    "lc, photo_z, sn_class, sn_class_snpcc = read_snpcc_lc('DES_SN000017.DAT', '../../Desktop/SNPCC/data/')"
   ]
  },
  {
   "cell_type": "code",
   "execution_count": 18,
   "metadata": {
    "collapsed": false
   },
   "outputs": [
    {
     "data": {
      "image/png": "[encoded data removed]",
      "text/plain": [
       "<matplotlib.figure.Figure at 0x11481b290>"
      ]
     },
     "metadata": {},
     "output_type": "display_data"
    }
   ],
   "source": [
    "plot_snpcc_lc(lc)"
   ]
  },
  {
   "cell_type": "code",
   "execution_count": null,
   "metadata": {
    "collapsed": true
   },
   "outputs": [],
   "source": []
  }
 ],
 "metadata": {
  "kernelspec": {
   "display_name": "Python 2",
   "language": "python",
   "name": "python2"
  },
  "language_info": {
   "codemirror_mode": {
    "name": "ipython",
    "version": 2
   },
   "file_extension": ".py",
   "mimetype": "text/x-python",
   "name": "python",
   "nbconvert_exporter": "python",
   "pygments_lexer": "ipython2",
   "version": "2.7.12"
  }
 },
 "nbformat": 4,
 "nbformat_minor": 0
}
