{
 "cells": [
  {
   "cell_type": "markdown",
   "metadata": {},
   "source": [
    "#### Data generation"
   ]
  },
  {
   "cell_type": "code",
   "execution_count": 1,
   "metadata": {
    "collapsed": true
   },
   "outputs": [],
   "source": [
    "import timesynth as ts\n",
    "import numpy as np\n",
    "import matplotlib.pyplot as plt\n",
    "import json\n",
    "%matplotlib inline"
   ]
  },
  {
   "cell_type": "code",
   "execution_count": 2,
   "metadata": {
    "collapsed": true
   },
   "outputs": [],
   "source": [
    "time_sampler = ts.TimeSampler(stop_time=20)"
   ]
  },
  {
   "cell_type": "code",
   "execution_count": 3,
   "metadata": {
    "collapsed": true
   },
   "outputs": [],
   "source": [
    "irregular_time_samples = time_sampler.sample_irregular_time(num_points=500, keep_percentage=50)"
   ]
  },
  {
   "cell_type": "code",
   "execution_count": 4,
   "metadata": {
    "collapsed": false
   },
   "outputs": [],
   "source": [
    "irregular_time_samples_diff = np.diff(np.append(0, irregular_time_samples))"
   ]
  },
  {
   "cell_type": "code",
   "execution_count": 5,
   "metadata": {
    "collapsed": true
   },
   "outputs": [],
   "source": [
    "phi = 0.10\n",
    "sigma = 0.2"
   ]
  },
  {
   "cell_type": "code",
   "execution_count": 6,
   "metadata": {
    "collapsed": false
   },
   "outputs": [],
   "source": [
    "signal = np.zeros(len(irregular_time_samples)+1)\n",
    "noise_samples = np.random.normal(size=len(irregular_time_samples))\n",
    "for i in range(len(irregular_time_samples)):\n",
    "    signal[i+1] = np.power(phi, irregular_time_samples_diff[i])*signal[i] + \\\n",
    "                    sigma*np.sqrt(1 - np.power(phi, 2*irregular_time_samples_diff[i]))*noise_samples[i]"
   ]
  },
  {
   "cell_type": "code",
   "execution_count": 7,
   "metadata": {
    "collapsed": false
   },
   "outputs": [
    {
     "data": {
      "text/plain": [
       "[<matplotlib.lines.Line2D at 0x109a362d0>]"
      ]
     },
     "execution_count": 7,
     "metadata": {},
     "output_type": "execute_result"
    },
    {
     "data": {
      "image/png": "[encoded data removed]",
      "text/plain": [
       "<matplotlib.figure.Figure at 0x109983910>"
      ]
     },
     "metadata": {},
     "output_type": "display_data"
    }
   ],
   "source": [
    "plt.plot(irregular_time_samples, signal[1:])"
   ]
  },
  {
   "cell_type": "code",
   "execution_count": 20,
   "metadata": {
    "collapsed": true
   },
   "outputs": [],
   "source": [
    "#Function for building the dictionary\n",
    "def create_data_dictionary(phi, sigma, irregular_time_samples, signal):\n",
    "    data_dict = {}\n",
    "    data_dict['phi'] = phi\n",
    "    data_dict['sigma'] = sigma\n",
    "    data_dict['time_samples'] = list(irregular_time_samples)\n",
    "    data_dict['signal'] = list(signal)\n",
    "    return data_dict"
   ]
  },
  {
   "cell_type": "code",
   "execution_count": 21,
   "metadata": {
    "collapsed": false
   },
   "outputs": [],
   "source": [
    "def write_file(file_name, data_dict):\n",
    "    with open('../corr_data/'+file_name+'.json', 'w') as fp:\n",
    "        json.dump(data_dict, fp)"
   ]
  },
  {
   "cell_type": "code",
   "execution_count": 22,
   "metadata": {
    "collapsed": true
   },
   "outputs": [],
   "source": [
    "def read_file(file_name):\n",
    "    with open('../corr_data/'+file_name+'.json', 'r') as fp:\n",
    "        data = json.load(fp)\n",
    "    return data"
   ]
  },
  {
   "cell_type": "code",
   "execution_count": 23,
   "metadata": {
    "collapsed": true
   },
   "outputs": [],
   "source": [
    "def generate_data(phi, sigma, num_points):\n",
    "    time_sampler = ts.TimeSampler(stop_time=20)\n",
    "    irregular_time_samples = time_sampler.sample_irregular_time(num_points=num_points,\n",
    "                                                                keep_percentage=50)\n",
    "    irregular_time_samples_diff = np.diff(np.append(0, irregular_time_samples))\n",
    "    signal = np.zeros(len(irregular_time_samples)+1)\n",
    "    noise_samples = np.random.normal(size=len(irregular_time_samples))\n",
    "    for i in range(len(irregular_time_samples)):\n",
    "        signal[i+1] = np.power(phi, irregular_time_samples_diff[i])*signal[i] + \\\n",
    "                        sigma*np.sqrt(1 - np.power(phi, 2*irregular_time_samples_diff[i]))*noise_samples[i]\n",
    "    return irregular_time_samples, signal[1:]"
   ]
  },
  {
   "cell_type": "markdown",
   "metadata": {},
   "source": [
    "#### Automating the process for dataset generation"
   ]
  },
  {
   "cell_type": "code",
   "execution_count": 34,
   "metadata": {
    "collapsed": false
   },
   "outputs": [],
   "source": [
    "num_samples = 10000\n",
    "phi_samples = np.random.uniform(size=num_samples)\n",
    "sigma_samples = np.random.uniform(size=num_samples)\n",
    "signal_lengths = np.random.randint(low=500, high=1000, size=num_samples)"
   ]
  },
  {
   "cell_type": "code",
   "execution_count": 35,
   "metadata": {
    "collapsed": false
   },
   "outputs": [],
   "source": [
    "for i in range(num_samples):\n",
    "    sigma = sigma_samples[i]\n",
    "    phi = phi_samples[i]\n",
    "    sig_length = signal_lengths[i]\n",
    "    signal = np.nan\n",
    "    while np.any(np.isnan(signal)):\n",
    "        time_samples, signal = generate_data(phi, sigma, 600)\n",
    "    data_dict = create_data_dictionary(phi, sigma, time_samples, signal)\n",
    "    file_name = 'series_'+str(i)\n",
    "    write_file(file_name, data_dict)"
   ]
  },
  {
   "cell_type": "markdown",
   "metadata": {},
   "source": [
    "#### Building the models for learning phi alone"
   ]
  },
  {
   "cell_type": "code",
   "execution_count": 2,
   "metadata": {
    "collapsed": true
   },
   "outputs": [],
   "source": [
    "import timeflow as tflow\n",
    "import tensorflow as tf"
   ]
  },
  {
   "cell_type": "code",
   "execution_count": 3,
   "metadata": {
    "collapsed": false
   },
   "outputs": [],
   "source": [
    "class RegressionLayer():\n",
    "    \"\"\"\n",
    "    Layer implements the Simple regression.\n",
    "    \"\"\"\n",
    "    def __init__(self, input_size, output_size, input_layer):\n",
    "        \"\"\"Initialize RegressionLayer class\n",
    "\n",
    "        Parameters\n",
    "        ----------\n",
    "        input_size : integer\n",
    "            Input dimensions\n",
    "        output_size : integer\n",
    "            Output dimensions\n",
    "        input_layer : layers object\n",
    "            Preceding layers object\n",
    "\n",
    "        \"\"\"\n",
    "        self.inputs = input_layer\n",
    "        self.input_size = input_size\n",
    "        self.output_size = output_size\n",
    "        self.Wo = tf.Variable(tf.truncated_normal([self.input_size, self.output_size], mean=0, stddev=.01))\n",
    "        self.bo = tf.Variable(tf.truncated_normal([self.output_size], mean=0, stddev=.01))\n",
    "\n",
    "    def get_output(self, input_):\n",
    "        \"\"\"\n",
    "        Generates the output for a single step\n",
    "\n",
    "        Parameters\n",
    "        ----------\n",
    "        input_ : tf.tensor\n",
    "            Input tensor\n",
    "\n",
    "        Returns\n",
    "        ----------\n",
    "        tf.tensor\n",
    "            Output tensor\n",
    "\n",
    "        \"\"\"\n",
    "        output = tf.matmul(input_, self.Wo) + self.bo\n",
    "        return output\n",
    "\n",
    "    def get_outputs(self):\n",
    "        \"\"\"\n",
    "        Iterates through all inputs to generate outputs\n",
    "\n",
    "        Returns\n",
    "        ----------\n",
    "        tf.Tensor\n",
    "            Output tensor\n",
    "\n",
    "        \"\"\"\n",
    "        all_outputs = tf.map_fn(self.get_output, self.inputs)\n",
    "        return all_outputs"
   ]
  },
  {
   "cell_type": "code",
   "execution_count": 4,
   "metadata": {
    "collapsed": true
   },
   "outputs": [],
   "source": [
    "input_size = 2\n",
    "hidden_size = 10\n",
    "output_size = 1\n",
    "batch_size = 50"
   ]
  },
  {
   "cell_type": "code",
   "execution_count": 5,
   "metadata": {
    "collapsed": false
   },
   "outputs": [],
   "source": [
    "with tf.variable_scope('Input'):\n",
    "    inputs = tflow.placeholders.prediction.input_batch_placeholder(input_size, batch_size)\n",
    "with tf.variable_scope('Input_LSTM_Layer'):\n",
    "    input_lstm_layer = tflow.layers.InputLSTMLayer(inputs, input_size, batch_input=True)\n",
    "with tf.variable_scope('LSTM_Layer'):\n",
    "    lstm_layer = tflow.layers.LSTMLayer(input_size, hidden_size, input_lstm_layer)"
   ]
  },
  {
   "cell_type": "code",
   "execution_count": 6,
   "metadata": {
    "collapsed": false
   },
   "outputs": [],
   "source": [
    "pre_output = tf.expand_dims(tf.reduce_mean(lstm_layer.get_outputs(), reduction_indices=1), 1)"
   ]
  },
  {
   "cell_type": "code",
   "execution_count": 7,
   "metadata": {
    "collapsed": true
   },
   "outputs": [],
   "source": [
    "with tf.variable_scope('Reg_Layer'):\n",
    "    reg_layer = RegressionLayer(hidden_size, output_size, pre_output)"
   ]
  },
  {
   "cell_type": "code",
   "execution_count": 8,
   "metadata": {
    "collapsed": false
   },
   "outputs": [],
   "source": [
    "with tf.variable_scope('Reg_Layer'):\n",
    "    output_layer = tflow.layers.OutputLSTMLayer(output_size, reg_layer, batch_output=True)"
   ]
  },
  {
   "cell_type": "code",
   "execution_count": 9,
   "metadata": {
    "collapsed": false
   },
   "outputs": [],
   "source": [
    "y = tf.placeholder(tf.float32, shape=[batch_size, output_size],name='outputs')"
   ]
  },
  {
   "cell_type": "code",
   "execution_count": 11,
   "metadata": {
    "collapsed": false
   },
   "outputs": [],
   "source": [
    "outputs = tf.reduce_mean(output_layer.get_outputs(), reduction_indices=2)"
   ]
  },
  {
   "cell_type": "code",
   "execution_count": 13,
   "metadata": {
    "collapsed": false
   },
   "outputs": [],
   "source": [
    "rmse = tflow.utils.metrics.RMSE(outputs, y)"
   ]
  },
  {
   "cell_type": "code",
   "execution_count": 14,
   "metadata": {
    "collapsed": false
   },
   "outputs": [],
   "source": [
    "tf.scalar_summary(\"RMSE\", rmse)\n",
    "summary_op = tf.merge_all_summaries()"
   ]
  },
  {
   "cell_type": "code",
   "execution_count": 15,
   "metadata": {
    "collapsed": false
   },
   "outputs": [],
   "source": [
    "#Training with Adadelta Optimizer\n",
    "train_step = tf.train.AdamOptimizer().minimize(rmse)"
   ]
  },
  {
   "cell_type": "code",
   "execution_count": 16,
   "metadata": {
    "collapsed": false
   },
   "outputs": [],
   "source": [
    "# Starting tensorflow session\n",
    "sess=tf.InteractiveSession()\n",
    "sess.run(tf.initialize_all_variables())"
   ]
  },
  {
   "cell_type": "code",
   "execution_count": 17,
   "metadata": {
    "collapsed": true
   },
   "outputs": [],
   "source": [
    "#Setting up log directory for tensorboard\n",
    "logs_path = 'tmp/corr/1'\n",
    "writer = tf.train.SummaryWriter(logs_path, graph=tf.get_default_graph())"
   ]
  },
  {
   "cell_type": "code",
   "execution_count": 18,
   "metadata": {
    "collapsed": false
   },
   "outputs": [],
   "source": [
    "def build_batch_input(val, batch_size):\n",
    "    outputs = np.zeros(batch_size)\n",
    "    counter = 0\n",
    "    for k in range(val*batch_size, (val+1)*batch_size):\n",
    "        data_dict = read_file('series_'+str(k))\n",
    "        time_samples = data_dict['time_samples']\n",
    "        samples = data_dict['signal']\n",
    "        outputs[counter] = data_dict['phi']\n",
    "        if counter == 0:\n",
    "            input_vector = np.transpose(np.concatenate(\n",
    "                                    (np.array(time_samples, ndmin=2),\n",
    "                                     np.array(samples, ndmin=2)), axis=0))\n",
    "        elif counter == 1:\n",
    "            value_vector = np.transpose(np.concatenate(\n",
    "                                    (np.array(time_samples, ndmin=2),\n",
    "                                     np.array(samples, ndmin=2)), axis=0))\n",
    "            input_vector = np.stack((input_vector, value_vector))\n",
    "        else:\n",
    "            value_vector = np.transpose(np.concatenate(\n",
    "                                    (np.array(time_samples, ndmin=2),\n",
    "                                     np.array(samples, ndmin=2)), axis=0))\n",
    "            input_vector = np.append(input_vector, np.expand_dims(value_vector, 0), axis=0)\n",
    "        counter += 1\n",
    "    return input_vector, np.reshape(outputs, (batch_size, 1))"
   ]
  },
  {
   "cell_type": "code",
   "execution_count": 24,
   "metadata": {
    "collapsed": false
   },
   "outputs": [],
   "source": [
    "input_vector, out_vector = build_batch_input(0, 10)"
   ]
  },
  {
   "cell_type": "code",
   "execution_count": 99,
   "metadata": {
    "collapsed": false
   },
   "outputs": [],
   "source": [
    "index = 200/50"
   ]
  },
  {
   "cell_type": "code",
   "execution_count": 100,
   "metadata": {
    "collapsed": false,
    "scrolled": true
   },
   "outputs": [
    {
     "name": "stdout",
     "output_type": "stream",
     "text": [
      "Batch 3 Completed with RMSE: 0.000186424\n",
      "Batch 4 Completed with RMSE: 0.00249247\n"
     ]
    }
   ],
   "source": [
    "for i in range(2, index):\n",
    "    input_vector, out_vector = build_batch_input(i, batch_size)\n",
    "    for k in range(5000):\n",
    "        _, summary = sess.run([train_step, summary_op],\n",
    "                             feed_dict={inputs:input_vector,\n",
    "                                        y:out_vector})\n",
    "        \n",
    "    score = sess.run(rmse, feed_dict={inputs:input_vector,\n",
    "                                    y:out_vector})\n",
    "    print \"Batch \"+str(i+1)+\" Completed with RMSE: \"+str(score)"
   ]
  },
  {
   "cell_type": "code",
   "execution_count": 29,
   "metadata": {
    "collapsed": true
   },
   "outputs": [],
   "source": [
    "data_dict = read_file('series_'+str(0))\n",
    "time_samples = data_dict['time_samples']\n",
    "samples = data_dict['signal']"
   ]
  },
  {
   "cell_type": "code",
   "execution_count": 30,
   "metadata": {
    "collapsed": true
   },
   "outputs": [],
   "source": [
    "def build_test_batch_input(file_num, batch_size):\n",
    "    data_dict = read_file('series_'+str(file_num))\n",
    "    time_samples = data_dict['time_samples']\n",
    "    samples = data_dict['signal']\n",
    "    outputs = data_dict['phi']\n",
    "    for k in range(batch_size):\n",
    "        if k == 0:\n",
    "            input_vector = np.transpose(np.concatenate(\n",
    "                                    (np.array(time_samples, ndmin=2),\n",
    "                                     np.array(samples, ndmin=2)), axis=0))\n",
    "        elif k == 1:\n",
    "            value_vector = np.transpose(np.concatenate(\n",
    "                                    (np.array(time_samples, ndmin=2),\n",
    "                                     np.array(samples, ndmin=2)), axis=0))\n",
    "            input_vector = np.stack((input_vector, value_vector))\n",
    "        else:\n",
    "            value_vector = np.transpose(np.concatenate(\n",
    "                                    (np.array(time_samples, ndmin=2),\n",
    "                                     np.array(samples, ndmin=2)), axis=0))\n",
    "            input_vector = np.append(input_vector, np.expand_dims(value_vector, 0), axis=0)\n",
    "    return input_vector, outputs"
   ]
  },
  {
   "cell_type": "code",
   "execution_count": 95,
   "metadata": {
    "collapsed": false
   },
   "outputs": [],
   "source": [
    "in_test, value = build_batch_input(1, batch_size)"
   ]
  },
  {
   "cell_type": "code",
   "execution_count": 96,
   "metadata": {
    "collapsed": false
   },
   "outputs": [],
   "source": [
    "out = sess.run(outputs, feed_dict={inputs:in_test})"
   ]
  },
  {
   "cell_type": "code",
   "execution_count": 97,
   "metadata": {
    "collapsed": false
   },
   "outputs": [
    {
     "data": {
      "text/plain": [
       "array([[ 0.00022764],\n",
       "       [-0.00160477],\n",
       "       [-0.0060283 ],\n",
       "       [ 0.00517172],\n",
       "       [ 0.00411643],\n",
       "       [ 0.0177103 ],\n",
       "       [-0.02389319],\n",
       "       [-0.00069429],\n",
       "       [ 0.00495244],\n",
       "       [ 0.02235382],\n",
       "       [-0.01253975],\n",
       "       [-0.01076528],\n",
       "       [-0.01327215],\n",
       "       [ 0.00846936],\n",
       "       [ 0.00093652],\n",
       "       [ 0.00205075],\n",
       "       [-0.00142367],\n",
       "       [-0.01922373],\n",
       "       [-0.00915094],\n",
       "       [ 0.0162082 ],\n",
       "       [ 0.03697009],\n",
       "       [ 0.01209154],\n",
       "       [-0.02226787],\n",
       "       [-0.0093154 ],\n",
       "       [-0.00679479],\n",
       "       [ 0.0162008 ],\n",
       "       [-0.00363037],\n",
       "       [ 0.00093822],\n",
       "       [-0.00789816],\n",
       "       [ 0.00454634],\n",
       "       [ 0.00319526],\n",
       "       [ 0.0311682 ],\n",
       "       [-0.01093589],\n",
       "       [-0.02207156],\n",
       "       [ 0.02766213],\n",
       "       [ 0.00896112],\n",
       "       [ 0.00365947],\n",
       "       [ 0.00705812],\n",
       "       [-0.01318327],\n",
       "       [ 0.00343895],\n",
       "       [ 0.00439972],\n",
       "       [-0.01155001],\n",
       "       [-0.01182839],\n",
       "       [-0.01405085],\n",
       "       [-0.02411143],\n",
       "       [ 0.02237219],\n",
       "       [-0.00146099],\n",
       "       [ 0.00671624],\n",
       "       [-0.00551476],\n",
       "       [-0.00696369]])"
      ]
     },
     "execution_count": 97,
     "metadata": {},
     "output_type": "execute_result"
    }
   ],
   "source": [
    "value-out"
   ]
  },
  {
   "cell_type": "code",
   "execution_count": 98,
   "metadata": {
    "collapsed": false
   },
   "outputs": [
    {
     "data": {
      "text/plain": [
       "array([[ 0.98471618],\n",
       "       [ 0.67528939],\n",
       "       [ 0.27899811],\n",
       "       [ 0.23471789],\n",
       "       [ 0.27658165],\n",
       "       [ 0.29408601],\n",
       "       [ 0.62958407],\n",
       "       [ 0.64839596],\n",
       "       [ 0.21550944],\n",
       "       [ 0.88351357],\n",
       "       [ 0.64305913],\n",
       "       [ 0.15140721],\n",
       "       [ 0.38964477],\n",
       "       [ 0.73124617],\n",
       "       [ 0.40863255],\n",
       "       [ 0.27813259],\n",
       "       [ 0.4641957 ],\n",
       "       [ 0.68137646],\n",
       "       [ 0.20620683],\n",
       "       [ 0.88985479],\n",
       "       [ 0.76234019],\n",
       "       [ 0.56481075],\n",
       "       [ 0.4583762 ],\n",
       "       [ 0.74224019],\n",
       "       [ 0.3016499 ],\n",
       "       [ 0.66037738],\n",
       "       [ 0.84154618],\n",
       "       [ 0.87579405],\n",
       "       [ 0.43135652],\n",
       "       [ 0.70645547],\n",
       "       [ 0.81034672],\n",
       "       [ 0.54324895],\n",
       "       [ 0.13431334],\n",
       "       [ 1.01852727],\n",
       "       [ 0.15313172],\n",
       "       [ 0.96659946],\n",
       "       [ 0.41571483],\n",
       "       [ 0.68412322],\n",
       "       [ 0.26639211],\n",
       "       [ 0.97392702],\n",
       "       [ 0.05983344],\n",
       "       [ 0.02786049],\n",
       "       [ 0.12034991],\n",
       "       [ 0.21055773],\n",
       "       [ 0.37448612],\n",
       "       [ 0.1166003 ],\n",
       "       [ 0.45120031],\n",
       "       [ 0.96588385],\n",
       "       [ 0.69349539],\n",
       "       [ 0.56008494]], dtype=float32)"
      ]
     },
     "execution_count": 98,
     "metadata": {},
     "output_type": "execute_result"
    }
   ],
   "source": [
    "out"
   ]
  },
  {
   "cell_type": "code",
   "execution_count": null,
   "metadata": {
    "collapsed": true
   },
   "outputs": [],
   "source": []
  }
 ],
 "metadata": {
  "kernelspec": {
   "display_name": "Python 2",
   "language": "python",
   "name": "python2"
  },
  "language_info": {
   "codemirror_mode": {
    "name": "ipython",
    "version": 2
   },
   "file_extension": ".py",
   "mimetype": "text/x-python",
   "name": "python",
   "nbconvert_exporter": "python",
   "pygments_lexer": "ipython2",
   "version": "2.7.12"
  }
 },
 "nbformat": 4,
 "nbformat_minor": 0
}
