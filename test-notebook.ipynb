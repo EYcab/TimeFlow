{
 "cells": [
  {
   "cell_type": "code",
   "execution_count": 1,
   "metadata": {
    "collapsed": false
   },
   "outputs": [],
   "source": [
    "import timeflow as tflow\n",
    "import timesynth as ts\n",
    "import tensorflow as tf\n",
    "import matplotlib.pyplot as plt\n",
    "import numpy as np\n",
    "%matplotlib inline"
   ]
  },
  {
   "cell_type": "markdown",
   "metadata": {
    "collapsed": true
   },
   "source": [
    "#### Dataset generation using TimeSynth"
   ]
  },
  {
   "cell_type": "code",
   "execution_count": 2,
   "metadata": {
    "collapsed": true
   },
   "outputs": [],
   "source": [
    "#Initializing TimeSampler\n",
    "time_sampler = ts.TimeSampler(stop_time=20)\n",
    "#Sampling regular time samples\n",
    "regular_time_samples = time_sampler.sample_regular_time(num_points=200)"
   ]
  },
  {
   "cell_type": "code",
   "execution_count": 3,
   "metadata": {
    "collapsed": true
   },
   "outputs": [],
   "source": [
    "#Initializing Sinusoidal signal\n",
    "sinusoid = ts.signals.Sinusoidal(frequency=0.25)"
   ]
  },
  {
   "cell_type": "code",
   "execution_count": 4,
   "metadata": {
    "collapsed": true
   },
   "outputs": [],
   "source": [
    "#Initializing Gaussian noise\n",
    "#white_noise = ts.noise.GaussianNoise(std=0.3)"
   ]
  },
  {
   "cell_type": "code",
   "execution_count": 5,
   "metadata": {
    "collapsed": true
   },
   "outputs": [],
   "source": [
    "#Initializing TimeSeries class with the signal and noise objects\n",
    "timeseries = ts.TimeSeries(sinusoid, noise_generator=None)\n",
    "#Sampling using the irregular time samples\n",
    "samples, signals, errors = timeseries.sample(regular_time_samples)"
   ]
  },
  {
   "cell_type": "code",
   "execution_count": 6,
   "metadata": {
    "collapsed": false
   },
   "outputs": [
    {
     "data": {
      "text/plain": [
       "<matplotlib.text.Text at 0x110b58e50>"
      ]
     },
     "execution_count": 6,
     "metadata": {},
     "output_type": "execute_result"
    },
    {
     "data": {
      "image/png": "[encoded data removed]",
      "text/plain": [
       "<matplotlib.figure.Figure at 0x110ae6d10>"
      ]
     },
     "metadata": {},
     "output_type": "display_data"
    }
   ],
   "source": [
    "#Plotting the series\n",
    "plt.plot(regular_time_samples, samples, marker='o')\n",
    "plt.xlabel('Time')\n",
    "plt.ylabel('Magnitude')\n",
    "plt.title('Regularly sampled sinusoid with noise')"
   ]
  },
  {
   "cell_type": "markdown",
   "metadata": {},
   "source": [
    "#### Building training and testing set"
   ]
  },
  {
   "cell_type": "code",
   "execution_count": 7,
   "metadata": {
    "collapsed": false
   },
   "outputs": [],
   "source": [
    "num_training_points = 100\n",
    "X = samples[:-1]\n",
    "Y = samples[1:]\n",
    "X_train = X[:num_training_points]\n",
    "Y_train = Y[:num_training_points]\n",
    "X_test = X[num_training_points:]\n",
    "Y_test = Y[num_training_points:]\n",
    "X_train = np.reshape(X_train,(len(X_train), 1))\n",
    "Y_train = np.reshape(Y_train,(len(Y_train), 1))\n",
    "X_test = np.reshape(X_test,(len(X_test), 1))\n",
    "Y_test = np.reshape(Y_test,(len(Y_test), 1))"
   ]
  },
  {
   "cell_type": "markdown",
   "metadata": {},
   "source": [
    "#### Building the network"
   ]
  },
  {
   "cell_type": "code",
   "execution_count": 8,
   "metadata": {
    "collapsed": true
   },
   "outputs": [],
   "source": [
    "input_size = 1\n",
    "hidden_size = 10\n",
    "output_size = 1"
   ]
  },
  {
   "cell_type": "code",
   "execution_count": 9,
   "metadata": {
    "collapsed": false
   },
   "outputs": [],
   "source": [
    "inputs = tflow.placeholders.prediction.input_placeholder(input_size)\n",
    "input_lstm_layer = tflow.layers.InputLSTMLayer(inputs, input_size)\n",
    "lstm_layer = tflow.layers.LSTMLayer(input_size, hidden_size, input_lstm_layer)\n",
    "reg_layer = tflow.layers.RegressionLayer(hidden_size, output_size, lstm_layer)\n",
    "output_layer = tflow.layers.OutputLSTMLayer(output_size, reg_layer)"
   ]
  },
  {
   "cell_type": "code",
   "execution_count": 10,
   "metadata": {
    "collapsed": true
   },
   "outputs": [],
   "source": [
    "y = tflow.placeholders.prediction.output_placeholder(output_size)"
   ]
  },
  {
   "cell_type": "code",
   "execution_count": 11,
   "metadata": {
    "collapsed": false
   },
   "outputs": [],
   "source": [
    "outputs = output_layer.get_outputs()\n",
    "# Defining MSE as the loss function\n",
    "loss_func = tf.reduce_mean(tf.pow(tf.sub(outputs, y),2))"
   ]
  },
  {
   "cell_type": "code",
   "execution_count": 12,
   "metadata": {
    "collapsed": true
   },
   "outputs": [],
   "source": [
    "# Training with Adadelta Optimizer\n",
    "train_step = tf.train.RMSPropOptimizer(learning_rate=0.05).minimize(loss_func)"
   ]
  },
  {
   "cell_type": "code",
   "execution_count": 13,
   "metadata": {
    "collapsed": true
   },
   "outputs": [],
   "source": [
    "# Starting tensorflow session\n",
    "sess=tf.InteractiveSession()\n",
    "sess.run(tf.initialize_all_variables())"
   ]
  },
  {
   "cell_type": "code",
   "execution_count": 15,
   "metadata": {
    "collapsed": false
   },
   "outputs": [
    {
     "name": "stdout",
     "output_type": "stream",
     "text": [
      "10 0.482499\n",
      "20 0.481656\n",
      "30 0.481506\n",
      "40 0.480704\n",
      "50 0.469875\n",
      "60 0.234282\n",
      "70 0.0135658\n",
      "80 0.0144253\n",
      "90 0.0240101\n",
      "100 0.0191846\n"
     ]
    }
   ],
   "source": [
    "for i in range(100):\n",
    "    sess.run(train_step,feed_dict={inputs:X_train, y:Y_train})\n",
    "    if (i+1)%10 == 0:\n",
    "        print i+1, str(sess.run(loss_func,feed_dict={inputs:X_train, y:Y_train}))"
   ]
  },
  {
   "cell_type": "markdown",
   "metadata": {},
   "source": [
    "#### Test output"
   ]
  },
  {
   "cell_type": "markdown",
   "metadata": {},
   "source": [
    "#### Automated Training"
   ]
  },
  {
   "cell_type": "code",
   "execution_count": 14,
   "metadata": {
    "collapsed": false
   },
   "outputs": [],
   "source": [
    "class AutomatedTrainingMonitor:\n",
    "    \n",
    "    def __init__(self, input_var, output_var, training_input, training_output, \n",
    "                 train, cost, sess, training_steps=100,\n",
    "                 validation_input=None, validation_output=None,\n",
    "                 early_stopping_rounds=None):\n",
    "        self.input_var = input_var\n",
    "        self.output_var = output_var\n",
    "        self.sess = sess\n",
    "        self.cost = cost\n",
    "        self.train_step = train\n",
    "        self.training_input = training_input\n",
    "        self.training_output = training_output\n",
    "        self.training_steps = training_steps\n",
    "        self.validation_input = validation_input\n",
    "        self.validation_output = validation_output\n",
    "        self.early_stopping_rounds = early_stopping_rounds\n",
    "        self._best_value_step = None\n",
    "        self._best_value = None\n",
    "        self._early_stopped = False\n",
    "        self._latest_path = None\n",
    "        self._latest_path_step = None\n",
    "    \n",
    "    @property\n",
    "    def early_stopped(self):\n",
    "        \"\"\"Returns True if this monitor caused an early stop.\"\"\"\n",
    "        return self._early_stopped\n",
    "\n",
    "    @property\n",
    "    def best_step(self):\n",
    "        \"\"\"Returns the step at which the best early stopping metric was found.\"\"\"\n",
    "        return self._best_value_step\n",
    "\n",
    "    @property\n",
    "    def best_value(self):\n",
    "        \"\"\"Returns the best early stopping metric value found so far.\"\"\"\n",
    "        return self._best_value\n",
    "    \n",
    "    def validate_every_step(self, step):\n",
    "        if self.early_stopping_rounds is not None:\n",
    "            current_value = float(self.sess.run(self.cost,feed_dict={self.input_var:self.validation_input, \n",
    "                                                                     self.output_var:self.validation_output}))\n",
    "            if (self._best_value is None or current_value < self._best_value):\n",
    "                self._best_value = current_value\n",
    "                self._best_value_step = step\n",
    "            stop_now = (step - self._best_value_step >= self.early_stopping_rounds)\n",
    "            if stop_now:\n",
    "                self._early_stopped = True\n",
    "        return\n",
    "                \n",
    "    def train(self):\n",
    "        for iter_num in range(self.training_steps):\n",
    "            self.sess.run(self.train_step,feed_dict={self.input_var:self.training_input,\n",
    "                                                     self.output_var:self.training_input})\n",
    "            self.validate_every_step(iter_num)\n",
    "            if self._early_stopped is True:\n",
    "                break\n",
    "        print \"Final Validation loss: \",\\\n",
    "              float(self.sess.run(self.cost,feed_dict={self.input_var:self.validation_input, \n",
    "                                                       self.output_var:self.validation_output}))\n",
    "        print \"Number of Iterations: \",\\\n",
    "              iter_num"
   ]
  },
  {
   "cell_type": "code",
   "execution_count": 18,
   "metadata": {
    "collapsed": false
   },
   "outputs": [],
   "source": [
    "monitor = AutomatedTrainingMonitor(inputs, y, X_train, Y_train,\n",
    "                                   train_step, loss_func, sess, training_steps=500,\n",
    "                                   validation_input=X_test, validation_output=Y_test,\n",
    "                                   early_stopping_rounds=60)"
   ]
  },
  {
   "cell_type": "code",
   "execution_count": 19,
   "metadata": {
    "collapsed": false
   },
   "outputs": [
    {
     "name": "stdout",
     "output_type": "stream",
     "text": [
      "Final Validation loss:  0.0189358014613\n",
      "Number of Iterations:  119\n"
     ]
    }
   ],
   "source": [
    "monitor.train()"
   ]
  },
  {
   "cell_type": "code",
   "execution_count": 20,
   "metadata": {
    "collapsed": false
   },
   "outputs": [],
   "source": [
    "output = sess.run(outputs,feed_dict={inputs:X_test})"
   ]
  },
  {
   "cell_type": "code",
   "execution_count": 21,
   "metadata": {
    "collapsed": false
   },
   "outputs": [
    {
     "data": {
      "image/png": "[encoded data removed]",
      "text/plain": [
       "<matplotlib.figure.Figure at 0x110b2cb90>"
      ]
     },
     "metadata": {},
     "output_type": "display_data"
    }
   ],
   "source": [
    "plt.plot(regular_time_samples[num_training_points+1:], output, label = 'Predicted')\n",
    "plt.plot(regular_time_samples[num_training_points+1:], Y_test, label = 'Actual')\n",
    "plt.legend()\n",
    "plt.xlabel('Time')\n",
    "plt.ylabel('Magintude')\n",
    "plt.title('Test set predictions');"
   ]
  },
  {
   "cell_type": "code",
   "execution_count": null,
   "metadata": {
    "collapsed": true
   },
   "outputs": [],
   "source": []
  }
 ],
 "metadata": {
  "kernelspec": {
   "display_name": "Python 2",
   "language": "python",
   "name": "python2"
  },
  "language_info": {
   "codemirror_mode": {
    "name": "ipython",
    "version": 2
   },
   "file_extension": ".py",
   "mimetype": "text/x-python",
   "name": "python",
   "nbconvert_exporter": "python",
   "pygments_lexer": "ipython2",
   "version": "2.7.12"
  }
 },
 "nbformat": 4,
 "nbformat_minor": 0
}
